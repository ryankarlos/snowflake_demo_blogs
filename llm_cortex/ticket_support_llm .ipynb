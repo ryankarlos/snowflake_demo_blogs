{
 "metadata": {
  "kernelspec": {
   "display_name": "Streamlit Notebook",
   "name": "streamlit"
  }
 },
 "nbformat_minor": 5,
 "nbformat": 4,
 "cells": [
  {
   "cell_type": "code",
   "id": "c695373e-ac74-4b62-a1f1-08206cbd5c81",
   "metadata": {
    "language": "sql",
    "name": "cell3",
    "collapsed": false,
    "resultHeight": 112
   },
   "source": "CREATE OR REPLACE WAREHOUSE snowpark_opt_wh WITH\n  WAREHOUSE_SIZE = 'MEDIUM'\n  WAREHOUSE_TYPE = 'SNOWPARK-OPTIMIZED';",
   "execution_count": null,
   "outputs": []
  },
  {
   "cell_type": "code",
   "id": "3ab2b15f-d035-4ce1-ac1c-13133188dbad",
   "metadata": {
    "language": "sql",
    "name": "cell1",
    "collapsed": false,
    "resultHeight": 112
   },
   "outputs": [],
   "source": "CREATE WAREHOUSE so_warehouse WITH\n  WAREHOUSE_SIZE = 'LARGE'\n  WAREHOUSE_TYPE = 'SNOWPARK-OPTIMIZED'\n  RESOURCE_CONSTRAINT = 'MEMORY_16X_X86';",
   "execution_count": null
  },
  {
   "cell_type": "code",
   "id": "2f4b1241-815a-4c54-880c-31246e8dbb9b",
   "metadata": {
    "language": "sql",
    "name": "cell2",
    "collapsed": false,
    "resultHeight": 112
   },
   "outputs": [],
   "source": "USE ROLE ACCOUNTADMIN;\n\n\nCREATE OR REPLACE DATABASE DASH_DB;\nCREATE OR REPLACE SCHEMA DASH_SCHEMA;\n\nUSE DASH_DB.DASH_SCHEMA;\nUSE WAREHOUSE DASH_S;",
   "execution_count": null
  },
  {
   "cell_type": "code",
   "id": "09682d8d-c504-4a42-8ccf-de4d01813036",
   "metadata": {
    "language": "sql",
    "name": "cell4",
    "collapsed": false,
    "resultHeight": 112
   },
   "outputs": [],
   "source": "create or replace table support_ticket_category (\n  category string\n);\n\nINSERT INTO support_ticket_category (category) VALUES \n  ('Roaming fees'), \n  ('Slow data speed'), \n  ('Lost phone'), \n  ('Add new line'), \n  ('Closing account');\n",
   "execution_count": null
  },
  {
   "cell_type": "code",
   "id": "5ea79156-0eba-4049-af4f-5e10b1e9f14e",
   "metadata": {
    "language": "sql",
    "name": "cell7",
    "collapsed": false,
    "resultHeight": 112
   },
   "outputs": [],
   "source": "USE DASH_DB.DASH_SCHEMA;\nUSE WAREHOUSE DASH_S;",
   "execution_count": null
  },
  {
   "cell_type": "markdown",
   "id": "ace27ebc-97a2-4d2b-8522-9f6006885a90",
   "metadata": {
    "name": "cell6"
   },
   "source": ""
  },
  {
   "cell_type": "code",
   "id": "10df07a9-c5ad-452c-888a-d39cc1ab521c",
   "metadata": {
    "language": "sql",
    "name": "cell5",
    "collapsed": false,
    "resultHeight": 112
   },
   "outputs": [],
   "source": "create or replace table support_tickets as (\n    SELECT \n      category, \n      TRY_PARSE_JSON(\n        SNOWFLAKE.CORTEX.COMPLETE(\n          'llama3.1-405b',\n          CONCAT(\n            'Please provide 25 examples of customer service calls in a telecom company for the following category:', category, '. Provide detailed and realistic scenarios that customer service representatives might encounter. Ensure the examples are diverse and cover various situations within each category. Please put the  examples into a JSON list. Each element in JSON list should include the following: {\"scenario\": <scenario>, \"request\": <detailed request from the customer, which usually is less than 3 sentences.>}. Only include JSON in output and no other words.'))) as tickets\n    from support_ticket_category\n);",
   "execution_count": null
  },
  {
   "cell_type": "code",
   "id": "057475b2-e78f-498f-bbb6-17b2585ccfb1",
   "metadata": {
    "language": "sql",
    "name": "cell8",
    "collapsed": false,
    "resultHeight": 112
   },
   "outputs": [],
   "source": "USE WAREHOUSE SO_WAREHOUSE;\n\ncreate or replace table flatten_support_tickets as (\nselect \n    category, \n    abs(hash(value:request)) % 10000000 as id,\n    value:request as request, \n    value:scenario as scenario\nfrom support_tickets, lateral flatten(input => tickets) \n);",
   "execution_count": null
  },
  {
   "cell_type": "code",
   "id": "b5fefc7e-e35d-426d-8911-5dd8f167e0bb",
   "metadata": {
    "language": "sql",
    "name": "cell9",
    "collapsed": false,
    "resultHeight": 439
   },
   "outputs": [],
   "source": "select * \nfrom DASH_DB.DASH_SCHEMA.SUPPORT_TICKETS, lateral flatten(input => tickets) \n",
   "execution_count": null
  },
  {
   "cell_type": "code",
   "id": "39c542b8-11dc-4d5b-9116-cbb4c92e1c23",
   "metadata": {
    "language": "sql",
    "name": "cell10",
    "resultHeight": 112
   },
   "outputs": [],
   "source": "create or replace table rate_support_tickets as (\n    SELECT category, id, request, scenario, TRY_PARSE_JSON(SNOWFLAKE.CORTEX.COMPLETE('llama3.1-405b', CONCAT('You are a judge to verify if a the support ticket received in a telecom company is realistic, and valid, please give scores from 1 to 5 for each category and give your final recommendation for the given question. Support Ticket: ', request, ' Please give the score in JSON format alone following this example: \"{\"realistic\": 5, \"valid\": 4}\".  You can put a reason into the result JSON as \"reason\": <reason>. Only include JSON in the output and no other words.'))) as rating\n    from flatten_support_tickets\n);",
   "execution_count": null
  },
  {
   "cell_type": "code",
   "id": "fe40f75d-6cc5-4170-b113-7f14260a2189",
   "metadata": {
    "language": "sql",
    "name": "cell11",
    "codeCollapsed": false,
    "collapsed": false,
    "resultHeight": 112
   },
   "outputs": [],
   "source": "create or replace table filtered_support_tickets as (\n    select * from rate_support_tickets where rating['realistic'] >= 4 and rating['valid'] >= 4\n);",
   "execution_count": null
  },
  {
   "cell_type": "code",
   "id": "40921297-141b-42a9-aa8a-fd198c47ba81",
   "metadata": {
    "language": "sql",
    "name": "cell12",
    "collapsed": false,
    "resultHeight": 112
   },
   "outputs": [],
   "source": "CREATE OR REPLACE FUNCTION CATEGORIZE_PROMPT_TEMPLATE(request STRING)\nRETURNS STRING\nLANGUAGE SQL\nAS\n$$\nCONCAT('You are an agent that helps organize requests that come to our support team. \n\nThe request category is the reason why the customer reached out. These are the possible types of request categories:\n\nRoaming fees\nSlow data speed\nLost phone\nAdd new line\nClosing account\n\nTry doing it for this request and return only the request category only.\n\nrequest: ', request)\n$$\n;",
   "execution_count": null
  },
  {
   "cell_type": "code",
   "id": "e9c5f6ea-1a72-4776-99c7-01c61e2f441f",
   "metadata": {
    "language": "sql",
    "name": "cell13",
    "collapsed": false,
    "resultHeight": 439
   },
   "outputs": [],
   "source": "SELECT id, SNOWFLAKE.CORTEX.COMPLETE('llama3-8b', CATEGORIZE_PROMPT_TEMPLATE(request)) FROM filtered_support_tickets;\n",
   "execution_count": null
  },
  {
   "cell_type": "code",
   "id": "c9c29e59-c0e8-41a5-ab88-811c61f5a1e8",
   "metadata": {
    "language": "sql",
    "name": "cell14",
    "collapsed": false,
    "resultHeight": 112
   },
   "outputs": [],
   "source": "create or replace table training_data as (\n    SELECT * from filtered_support_tickets where ID % 10 < 7 \n);\n\ncreate or replace table validation_data as (\n    SELECT * from filtered_support_tickets where ID % 10 >=  \n);",
   "execution_count": null
  },
  {
   "cell_type": "code",
   "id": "c2be57c6-dc00-4c3c-9872-e14cc6261606",
   "metadata": {
    "language": "sql",
    "name": "cell17",
    "resultHeight": 112,
    "collapsed": false
   },
   "outputs": [],
   "source": "create or replace table  model_accuracy_log (date_timestamp TIMESTAMP, llm_model string, accuracy float)",
   "execution_count": null
  },
  {
   "cell_type": "code",
   "id": "1edb536b-d3c3-4eff-acfd-fc303b33b79d",
   "metadata": {
    "language": "sql",
    "name": "cell19",
    "resultHeight": 112,
    "collapsed": false
   },
   "outputs": [],
   "source": "SET model_name = 'llama3.1-405b';\nUSE DATABASE DASH_DB;\nUSE SCHEMA DASH_SCHEMA;",
   "execution_count": null
  },
  {
   "cell_type": "code",
   "id": "0e574c47-b4fb-4ca1-8841-b0ea5b1171e3",
   "metadata": {
    "language": "sql",
    "name": "accuracy_flag",
    "collapsed": false,
    "resultHeight": 112,
    "codeCollapsed": false
   },
   "outputs": [],
   "source": "CREATE OR REPLACE TRANSIENT TABLE accuracy_flag as (\nwith predictions as (\nSELECT id, request,category as actual_category, TRIM(SNOWFLAKE.CORTEX.COMPLETE($model_name, CATEGORIZE_PROMPT_TEMPLATE(request))) as model_category\nFROM filtered_support_tickets), ACCURACY AS (SELECT CASE WHEN POSITION(actual_category, model_category) > 0 THEN 1 ELSE 0 END AS true_positives\nfrom predictions)\nselect * from ACCURACY)",
   "execution_count": null
  },
  {
   "cell_type": "code",
   "id": "5f26ba01-5e76-4727-989b-bf03fe89bef6",
   "metadata": {
    "language": "sql",
    "name": "cell15",
    "collapsed": false,
    "resultHeight": 112,
    "codeCollapsed": false
   },
   "outputs": [],
   "source": "set accuracy = (select SUM(TRUE_POSITIVES)/COUNT(*) AS ACCURACY FROM DASH_DB.DASH_SCHEMA.ACCURACY_FLAG)",
   "execution_count": null
  },
  {
   "cell_type": "code",
   "id": "6c55e0a6-b48c-4da9-abf0-e1fbfc13b585",
   "metadata": {
    "language": "sql",
    "name": "cell18",
    "codeCollapsed": false,
    "collapsed": false,
    "resultHeight": 112
   },
   "outputs": [],
   "source": "insert into model_accuracy_log values (CURRENT_TIMESTAMP(2), $model_name, $accuracy)",
   "execution_count": null
  },
  {
   "cell_type": "code",
   "id": "878435a0-aa4d-4ed4-94e4-b6ec465c734f",
   "metadata": {
    "language": "sql",
    "name": "cell16",
    "codeCollapsed": false,
    "collapsed": false,
    "resultHeight": 252
   },
   "outputs": [],
   "source": "select * EXCLUDE RN FROM (SELECT *, ROW_NUMBER() OVER (PARTITION BY LLM_MODEL,ACCURACY ORDER BY DATE_TIMESTAMP) AS RN from model_accuracy_log)\nWHERE RN=1 ORDER BY DATE_TIMESTAMP DESC ",
   "execution_count": null
  }
 ]
}