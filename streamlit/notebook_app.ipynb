{
 "metadata": {
  "kernelspec": {
   "display_name": "Streamlit Notebook",
   "name": "streamlit"
  }
 },
 "nbformat_minor": 5,
 "nbformat": 4,
 "cells": [
  {
   "cell_type": "code",
   "id": "3775908f-ca36-4846-8f38-5adca39217f2",
   "metadata": {
    "language": "python",
    "name": "cell1",
    "collapsed": false,
    "resultHeight": 0
   },
   "source": "# Import libraries\nfrom snowflake.snowpark.context import get_active_session\nfrom snowflake.snowpark.functions import sum, col, when, max, lag\nfrom snowflake.snowpark import Window\nfrom datetime import timedelta\nimport altair as alt\nimport streamlit as st\nimport pandas as pd\n\n",
   "execution_count": null,
   "outputs": []
  },
  {
   "cell_type": "code",
   "id": "2bf3f58a-3602-4134-9e6d-9446de9824eb",
   "metadata": {
    "language": "python",
    "name": "cell5",
    "resultHeight": 439
   },
   "outputs": [],
   "source": "session.table(\"FINANCE__ECONOMICS.CYBERSYN.STOCK_PRICE_TIMESERIES\").sample(0.5)\n",
   "execution_count": null
  },
  {
   "cell_type": "code",
   "id": "e252ff9c-5b9b-4063-a154-7df42b1a1c19",
   "metadata": {
    "language": "python",
    "name": "cell2",
    "codeCollapsed": false,
    "resultHeight": 0
   },
   "outputs": [],
   "source": "session = get_active_session()\nsnow_df_stocks = (\n        session.table(\"FINANCE__ECONOMICS.CYBERSYN.STOCK_PRICE_TIMESERIES\")\n        .filter(\n            (col('TICKER').isin('AAPL', 'MSFT', 'AMZN', 'GOOGL', 'META', 'TSLA', 'NVDA')) & \n            (col('VARIABLE_NAME').isin('Nasdaq Volume', 'Post-Market Close')))\n        .groupBy(\"TICKER\", \"DATE\")\n        .agg(\n            max(when(col(\"VARIABLE_NAME\") == \"Nasdaq Volume\", col(\"VALUE\"))).alias(\"NASDAQ_VOLUME\"),\n            max(when(col(\"VARIABLE_NAME\") == \"Post-Market Close\", col(\"VALUE\"))).alias(\"POSTMARKET_CLOSE\")\n        )\n    )",
   "execution_count": null
  },
  {
   "cell_type": "code",
   "id": "dda8eb3d-f8af-4cbb-9a6a-3b19a7f9ff3f",
   "metadata": {
    "language": "python",
    "name": "cell3",
    "codeCollapsed": false,
    "resultHeight": 329
   },
   "outputs": [],
   "source": "snow_df_stocks.sort(col('DATE').desc(), col('TICKER')).show()",
   "execution_count": null
  },
  {
   "cell_type": "code",
   "id": "5f7d1401-d0d5-4c58-ba03-a781400ffcbf",
   "metadata": {
    "language": "python",
    "name": "cell4",
    "codeCollapsed": false,
    "collapsed": false,
    "resultHeight": 0
   },
   "outputs": [],
   "source": "# Adding the Day over Day Post-market Close Change calculation\nwindow_spec = Window.partitionBy(\"TICKER\").orderBy(\"DATE\")\nsnow_df_stocks_transformed = snow_df_stocks.withColumn(\"DAY_OVER_DAY_CHANGE\", \n    (col(\"POSTMARKET_CLOSE\") - lag(col(\"POSTMARKET_CLOSE\"), 1).over(window_spec)) /\n    lag(col(\"POSTMARKET_CLOSE\"), 1).over(window_spec)\n)\n\n# Load foreign exchange (FX) rates data.\nsnow_df_fx = session.table(\"FINANCE__ECONOMICS.CYBERSYN.FX_RATES_TIMESERIES\").filter(\n    (col('BASE_CURRENCY_ID') == 'EUR') & (col('DATE') >= '2019-01-01')).with_column_renamed('VARIABLE_NAME','EXCHANGE_RATE')\n",
   "execution_count": null
  },
  {
   "cell_type": "code",
   "id": "527a96f7-f1e0-44ba-bd88-35bbdf566ca5",
   "metadata": {
    "language": "python",
    "name": "cell6",
    "collapsed": false,
    "resultHeight": 351
   },
   "outputs": [],
   "source": "snow_df_stocks_transformed.show(10)",
   "execution_count": null
  },
  {
   "cell_type": "code",
   "id": "6f88d20e-637d-413d-bc52-92802ffdd03c",
   "metadata": {
    "language": "python",
    "name": "cell7",
    "collapsed": false,
    "resultHeight": 439,
    "codeCollapsed": false
   },
   "outputs": [],
   "source": "snow_df_stocks.with_columns([\"LAG_POSTMARKET_CLOSE\", \"DAY_OVER_DAY_CHANGE\"],\n    [lag(col(\"POSTMARKET_CLOSE\"), 1).over(window_spec), (col(\"POSTMARKET_CLOSE\") - col(\"LAG_POSTMARKET_CLOSE\")) / \n     col(\"LAG_POSTMARKET_CLOSE\")])",
   "execution_count": null
  },
  {
   "cell_type": "code",
   "id": "37fe2d7b-2ace-4d4c-8720-e23b9d25cc14",
   "metadata": {
    "language": "python",
    "name": "cell8",
    "codeCollapsed": false
   },
   "outputs": [],
   "source": "",
   "execution_count": null
  }
 ]
}